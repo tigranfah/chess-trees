{
 "cells": [
  {
   "cell_type": "code",
   "execution_count": 4,
   "id": "54aaf7d4",
   "metadata": {},
   "outputs": [],
   "source": [
    "import importlib\n",
    "import games\n",
    "import minimax\n",
    "\n",
    "importlib.reload(games)\n",
    "importlib.reload(minimax)\n",
    "from games import TicTacToe\n",
    "from minimax import minimax"
   ]
  },
  {
   "cell_type": "code",
   "execution_count": 10,
   "id": "75079130",
   "metadata": {},
   "outputs": [
    {
     "data": {
      "text/plain": [
       " | | \n",
       "- - - \n",
       " | | \n",
       "- - - \n",
       " | | "
      ]
     },
     "execution_count": 10,
     "metadata": {},
     "output_type": "execute_result"
    }
   ],
   "source": [
    "tgame = TicTacToe()\n",
    "tgame"
   ]
  },
  {
   "cell_type": "code",
   "execution_count": 11,
   "id": "3a1d076a",
   "metadata": {},
   "outputs": [
    {
     "name": "stdout",
     "output_type": "stream",
     "text": [
      "minimax took 0.2300s\n",
      "0 TicTacToeAction(pos=(0, 0), player='x')\n",
      "x| | \n",
      "- - - \n",
      " | | \n",
      "- - - \n",
      " | | \n",
      "\n",
      "minimax took 0.0001s\n",
      "0 TicTacToeAction(pos=(1, 1), player='o')\n",
      "x| | \n",
      "- - - \n",
      " |o| \n",
      "- - - \n",
      " | | \n",
      "\n",
      "minimax took 0.0001s\n",
      "0 TicTacToeAction(pos=(0, 1), player='x')\n",
      "x|x| \n",
      "- - - \n",
      " |o| \n",
      "- - - \n",
      " | | \n",
      "\n",
      "minimax took 0.0001s\n",
      "0 TicTacToeAction(pos=(0, 2), player='o')\n",
      "x|x|o\n",
      "- - - \n",
      " |o| \n",
      "- - - \n",
      " | | \n",
      "\n",
      "minimax took 0.0001s\n",
      "0 TicTacToeAction(pos=(2, 0), player='x')\n",
      "x|x|o\n",
      "- - - \n",
      " |o| \n",
      "- - - \n",
      "x| | \n",
      "\n",
      "minimax took 0.0000s\n",
      "0 TicTacToeAction(pos=(1, 0), player='o')\n",
      "x|x|o\n",
      "- - - \n",
      "o|o| \n",
      "- - - \n",
      "x| | \n",
      "\n",
      "minimax took 0.0000s\n",
      "0 TicTacToeAction(pos=(1, 2), player='x')\n",
      "x|x|o\n",
      "- - - \n",
      "o|o|x\n",
      "- - - \n",
      "x| | \n",
      "\n",
      "minimax took 0.0000s\n",
      "0 TicTacToeAction(pos=(2, 1), player='o')\n",
      "x|x|o\n",
      "- - - \n",
      "o|o|x\n",
      "- - - \n",
      "x|o| \n",
      "\n",
      "minimax took 0.0000s\n",
      "0 TicTacToeAction(pos=(2, 2), player='x')\n",
      "x|x|o\n",
      "- - - \n",
      "o|o|x\n",
      "- - - \n",
      "x|o|x\n",
      "\n"
     ]
    }
   ],
   "source": [
    "while not tgame.is_terminal():\n",
    "    v, a = minimax(tgame)\n",
    "    print(v, a)\n",
    "    tgame.perform_action(a)\n",
    "    print(tgame)"
   ]
  },
  {
   "cell_type": "code",
   "execution_count": 5,
   "id": "fc92c08f",
   "metadata": {},
   "outputs": [],
   "source": [
    "import games\n",
    "importlib.reload(games)\n",
    "from games import ChessGame\n",
    "from chess import Move"
   ]
  },
  {
   "cell_type": "code",
   "execution_count": 6,
   "id": "da867329",
   "metadata": {},
   "outputs": [],
   "source": [
    "cgame = ChessGame()"
   ]
  },
  {
   "cell_type": "code",
   "execution_count": 7,
   "id": "2ba25f19",
   "metadata": {},
   "outputs": [
    {
     "data": {
      "text/plain": [
       "False"
      ]
     },
     "execution_count": 7,
     "metadata": {},
     "output_type": "execute_result"
    }
   ],
   "source": [
    "cgame.is_terminal()"
   ]
  },
  {
   "cell_type": "code",
   "execution_count": 8,
   "id": "778cd1f1",
   "metadata": {},
   "outputs": [
    {
     "data": {
      "text/plain": [
       "True"
      ]
     },
     "execution_count": 8,
     "metadata": {},
     "output_type": "execute_result"
    }
   ],
   "source": [
    "cgame.turn"
   ]
  },
  {
   "cell_type": "code",
   "execution_count": 9,
   "id": "c4807e45",
   "metadata": {},
   "outputs": [
    {
     "name": "stdout",
     "output_type": "stream",
     "text": [
      "e2e4\n",
      "minimax took 1.9758s\n",
      "Found value 0, action g8h6\n",
      "r n b q k b . r\n",
      "p p p p p p p p\n",
      ". . . . . . . n\n",
      ". . . . . . . .\n",
      ". . . . P . . .\n",
      ". . . . . . . .\n",
      "P P P P . P P P\n",
      "R N B Q K B N R\n",
      "g1f3\n",
      "minimax took 1.5866s\n",
      "Found value -1, action h6g4\n",
      "r n b q k b . r\n",
      "p p p p p p p p\n",
      ". . . . . . . .\n",
      ". . . . . . . .\n",
      ". . . . P . n .\n",
      ". . . . . N . .\n",
      "P P P P . P P P\n",
      "R N B Q K B . R\n",
      "quit\n"
     ]
    },
    {
     "ename": "AttributeError",
     "evalue": "'NoneType' object has no attribute 'from_square'",
     "output_type": "error",
     "traceback": [
      "\u001b[0;31m---------------------------------------------------------------------------\u001b[0m",
      "\u001b[0;31mAttributeError\u001b[0m                            Traceback (most recent call last)",
      "Cell \u001b[0;32mIn[9], line 12\u001b[0m\n\u001b[1;32m      9\u001b[0m     \u001b[38;5;28;01mexcept\u001b[39;00m:\n\u001b[1;32m     10\u001b[0m         \u001b[38;5;28mprint\u001b[39m(\u001b[38;5;124m\"\u001b[39m\u001b[38;5;124mwhat?\u001b[39m\u001b[38;5;124m\"\u001b[39m)\n\u001b[0;32m---> 12\u001b[0m \u001b[43mcgame\u001b[49m\u001b[38;5;241;43m.\u001b[39;49m\u001b[43mperform_action\u001b[49m\u001b[43m(\u001b[49m\u001b[43maction\u001b[49m\u001b[43m)\u001b[49m\n\u001b[1;32m     13\u001b[0m v, a \u001b[38;5;241m=\u001b[39m minimax(cgame, depth\u001b[38;5;241m=\u001b[39m\u001b[38;5;241m3\u001b[39m)\n\u001b[1;32m     14\u001b[0m \u001b[38;5;28mprint\u001b[39m(\u001b[38;5;124mf\u001b[39m\u001b[38;5;124m\"\u001b[39m\u001b[38;5;124mFound value \u001b[39m\u001b[38;5;132;01m{\u001b[39;00mv\u001b[38;5;132;01m}\u001b[39;00m\u001b[38;5;124m, action \u001b[39m\u001b[38;5;132;01m{\u001b[39;00ma\u001b[38;5;132;01m}\u001b[39;00m\u001b[38;5;124m\"\u001b[39m)\n",
      "File \u001b[0;32m~/Desktop/kicking_ass/python3/chess-trees/src/games.py:28\u001b[0m, in \u001b[0;36mChessGame.perform_action\u001b[0;34m(self, action)\u001b[0m\n\u001b[1;32m     27\u001b[0m \u001b[38;5;28;01mdef\u001b[39;00m \u001b[38;5;21mperform_action\u001b[39m(\u001b[38;5;28mself\u001b[39m, action):\n\u001b[0;32m---> 28\u001b[0m     \u001b[38;5;28;43mself\u001b[39;49m\u001b[38;5;241;43m.\u001b[39;49m\u001b[43mpush\u001b[49m\u001b[43m(\u001b[49m\u001b[43maction\u001b[49m\u001b[43m)\u001b[49m\n",
      "File \u001b[0;32m/usr/local/lib/python3.11/site-packages/chess/__init__.py:2200\u001b[0m, in \u001b[0;36mBoard.push\u001b[0;34m(self, move)\u001b[0m\n\u001b[1;32m   2177\u001b[0m \u001b[38;5;250m\u001b[39m\u001b[38;5;124;03m\"\"\"\u001b[39;00m\n\u001b[1;32m   2178\u001b[0m \u001b[38;5;124;03mUpdates the position with the given *move* and puts it onto the\u001b[39;00m\n\u001b[1;32m   2179\u001b[0m \u001b[38;5;124;03mmove stack.\u001b[39;00m\n\u001b[0;32m   (...)\u001b[0m\n\u001b[1;32m   2197\u001b[0m \u001b[38;5;124;03m    a null move.\u001b[39;00m\n\u001b[1;32m   2198\u001b[0m \u001b[38;5;124;03m\"\"\"\u001b[39;00m\n\u001b[1;32m   2199\u001b[0m \u001b[38;5;66;03m# Push move and remember board state.\u001b[39;00m\n\u001b[0;32m-> 2200\u001b[0m move \u001b[38;5;241m=\u001b[39m \u001b[38;5;28;43mself\u001b[39;49m\u001b[38;5;241;43m.\u001b[39;49m\u001b[43m_to_chess960\u001b[49m\u001b[43m(\u001b[49m\u001b[43mmove\u001b[49m\u001b[43m)\u001b[49m\n\u001b[1;32m   2201\u001b[0m board_state \u001b[38;5;241m=\u001b[39m \u001b[38;5;28mself\u001b[39m\u001b[38;5;241m.\u001b[39m_board_state()\n\u001b[1;32m   2202\u001b[0m \u001b[38;5;28mself\u001b[39m\u001b[38;5;241m.\u001b[39mcastling_rights \u001b[38;5;241m=\u001b[39m \u001b[38;5;28mself\u001b[39m\u001b[38;5;241m.\u001b[39mclean_castling_rights()  \u001b[38;5;66;03m# Before pushing stack\u001b[39;00m\n",
      "File \u001b[0;32m/usr/local/lib/python3.11/site-packages/chess/__init__.py:3636\u001b[0m, in \u001b[0;36mBoard._to_chess960\u001b[0;34m(self, move)\u001b[0m\n\u001b[1;32m   3635\u001b[0m \u001b[38;5;28;01mdef\u001b[39;00m \u001b[38;5;21m_to_chess960\u001b[39m(\u001b[38;5;28mself\u001b[39m, move: Move) \u001b[38;5;241m-\u001b[39m\u001b[38;5;241m>\u001b[39m Move:\n\u001b[0;32m-> 3636\u001b[0m     \u001b[38;5;28;01mif\u001b[39;00m \u001b[43mmove\u001b[49m\u001b[38;5;241;43m.\u001b[39;49m\u001b[43mfrom_square\u001b[49m \u001b[38;5;241m==\u001b[39m E1 \u001b[38;5;129;01mand\u001b[39;00m \u001b[38;5;28mself\u001b[39m\u001b[38;5;241m.\u001b[39mkings \u001b[38;5;241m&\u001b[39m BB_E1:\n\u001b[1;32m   3637\u001b[0m         \u001b[38;5;28;01mif\u001b[39;00m move\u001b[38;5;241m.\u001b[39mto_square \u001b[38;5;241m==\u001b[39m G1 \u001b[38;5;129;01mand\u001b[39;00m \u001b[38;5;129;01mnot\u001b[39;00m \u001b[38;5;28mself\u001b[39m\u001b[38;5;241m.\u001b[39mrooks \u001b[38;5;241m&\u001b[39m BB_G1:\n\u001b[1;32m   3638\u001b[0m             \u001b[38;5;28;01mreturn\u001b[39;00m Move(E1, H1)\n",
      "\u001b[0;31mAttributeError\u001b[0m: 'NoneType' object has no attribute 'from_square'"
     ]
    }
   ],
   "source": [
    "while not cgame.is_terminal():\n",
    "    action = None\n",
    "    while action is None:\n",
    "        try:\n",
    "            inp = input()\n",
    "            if inp == \"quit\":\n",
    "                break\n",
    "            action = Move.from_uci(inp)\n",
    "        except:\n",
    "            print(\"what?\")\n",
    "    \n",
    "    cgame.perform_action(action)\n",
    "    v, a = minimax(cgame, depth=3)\n",
    "    print(f\"Found value {v}, action {a}\")\n",
    "    cgame.perform_action(a)\n",
    "    print(cgame)"
   ]
  },
  {
   "cell_type": "code",
   "execution_count": null,
   "id": "209f0d9c",
   "metadata": {},
   "outputs": [],
   "source": [
    "pure_minimax"
   ]
  },
  {
   "cell_type": "code",
   "execution_count": null,
   "id": "00feec64",
   "metadata": {},
   "outputs": [],
   "source": [
    "cgame.perform_action(a)"
   ]
  },
  {
   "cell_type": "code",
   "execution_count": null,
   "id": "0edab194",
   "metadata": {},
   "outputs": [],
   "source": [
    "cgame"
   ]
  },
  {
   "cell_type": "code",
   "execution_count": null,
   "id": "15f61068",
   "metadata": {},
   "outputs": [],
   "source": []
  }
 ],
 "metadata": {
  "kernelspec": {
   "display_name": "Python 3 (ipykernel)",
   "language": "python",
   "name": "python3"
  },
  "language_info": {
   "codemirror_mode": {
    "name": "ipython",
    "version": 3
   },
   "file_extension": ".py",
   "mimetype": "text/x-python",
   "name": "python",
   "nbconvert_exporter": "python",
   "pygments_lexer": "ipython3",
   "version": "3.11.5"
  }
 },
 "nbformat": 4,
 "nbformat_minor": 5
}
